{
 "cells": [
  {
   "cell_type": "markdown",
   "id": "e5c92786-5414-4426-be92-f6eb55fc2e6e",
   "metadata": {},
   "source": [
    "# Summer project 2021\n",
    "Author: Eirik Fredborg\n",
    "\n",
    "Supervisor: Chandrashekhar Kalugodu\n",
    "\n",
    "\n",
    "### Introduction\n",
    "This document contains a report on my work at the Institute of theoretical astrophysics at the University of Oslo (UiO) during the summer of 2021. Iris observations of Coronal bright points (CBPs) over a time period were analyzed and an atmospheric model were created for each observation in time. An optical depth of interest were chosen and light curves (LCs) were extracted for each observation time. The oscillation characteristics of the LCs were investigated using Wavelet and Fourier analysis, and the first and second dominant periods were determined. The periodicity of the LCs at different optical depths are of interest to determine if the CBPs are pulsating outward or inward. It is assumed that the reader is familiar with [Iris level 2 data](https://www.lmsal.com/hek/hcr?cmd=view-event&event-id=ivo%3A%2F%2Fsot.lmsal.com%2FVOEvent%23VOEvent_IRIS_20140521_114758_3820258168_2014-05-21T11%3A47%3A582014-05-21T11%3A47%3A58.xml) and the [inversion method](https://iris.lmsal.com/iris2/), but a brief overview will be described."
   ]
  },
  {
   "cell_type": "code",
   "execution_count": null,
   "id": "552b7e6f-b828-40bd-a990-752c77438eb3",
   "metadata": {},
   "outputs": [],
   "source": []
  }
 ],
 "metadata": {
  "kernelspec": {
   "display_name": "Python 3",
   "language": "python",
   "name": "python3"
  },
  "language_info": {
   "codemirror_mode": {
    "name": "ipython",
    "version": 3
   },
   "file_extension": ".py",
   "mimetype": "text/x-python",
   "name": "python",
   "nbconvert_exporter": "python",
   "pygments_lexer": "ipython3",
   "version": "3.8.8"
  }
 },
 "nbformat": 4,
 "nbformat_minor": 5
}
